{
 "cells": [
  {
   "cell_type": "code",
   "execution_count": 54,
   "metadata": {},
   "outputs": [],
   "source": [
    "from jinja2 import Template\n",
    "import sys\n",
    "import pyhtml as h\n",
    "import matplotlib.pyplot as plt\n",
    "import csv\n",
    "\n",
    "fr = open(r'data.csv','r')\n",
    "csvheader = csv.reader(fr)\n",
    "header = next(csvheader)\n",
    "rows = []\n",
    "for row in csvheader:\n",
    "    rows.append(row)"
   ]
  },
  {
   "cell_type": "code",
   "execution_count": 64,
   "metadata": {},
   "outputs": [
    {
     "data": {
      "text/plain": [
       "[['1001', ' 2001', ' 56'],\n",
       " ['1002', ' 2001', ' 67'],\n",
       " ['1003', ' 2001', ' 78'],\n",
       " ['1004', ' 2001', ' 90'],\n",
       " ['1005', ' 2001', ' 45'],\n",
       " ['1001', ' 2002', ' 58'],\n",
       " ['1002', ' 2002', ' 98'],\n",
       " ['1009', ' 2002', ' 12'],\n",
       " ['1007', ' 2002', ' 99'],\n",
       " ['1008', ' 2002', ' 39'],\n",
       " ['1003', ' 2003', ' 34'],\n",
       " ['1004', ' 2003', ' 43'],\n",
       " ['1000', ' 2003', ' 25'],\n",
       " ['1060', ' 2003', ' 60'],\n",
       " ['1090', ' 2003', ' 88'],\n",
       " ['1005', ' 2004', ' 81'],\n",
       " ['1080', ' 2004', ' 59'],\n",
       " ['1030', ' 2004', ' 87'],\n",
       " ['1001', ' 2004', ' 35'],\n",
       " ['1090', ' 2004', ' 33']]"
      ]
     },
     "execution_count": 64,
     "metadata": {},
     "output_type": "execute_result"
    }
   ],
   "source": [
    "rows"
   ]
  },
  {
   "cell_type": "code",
   "execution_count": 62,
   "metadata": {},
   "outputs": [
    {
     "name": "stdout",
     "output_type": "stream",
     "text": [
      "['1001', ' 2001', ' 56']\n",
      "['1001', ' 2002', ' 58']\n",
      "['1001', ' 2004', ' 35']\n"
     ]
    }
   ],
   "source": [
    "for i in range(len(rows)):\n",
    "    if rows[i][0] == '1001':\n",
    "        print(rows[i])"
   ]
  },
  {
   "cell_type": "code",
   "execution_count": 33,
   "metadata": {},
   "outputs": [
    {
     "data": {
      "text/plain": [
       "<_csv.reader at 0x227a511c7c0>"
      ]
     },
     "execution_count": 33,
     "metadata": {},
     "output_type": "execute_result"
    }
   ],
   "source": [
    "csvheader = csv.reader(fr)\n",
    "csvheader"
   ]
  },
  {
   "cell_type": "code",
   "execution_count": 34,
   "metadata": {},
   "outputs": [
    {
     "data": {
      "text/plain": [
       "['Student id', ' Course id', ' Marks']"
      ]
     },
     "execution_count": 34,
     "metadata": {},
     "output_type": "execute_result"
    }
   ],
   "source": [
    "header = next(csvheader)\n",
    "header"
   ]
  },
  {
   "cell_type": "code",
   "execution_count": 35,
   "metadata": {},
   "outputs": [
    {
     "data": {
      "text/plain": [
       "['1001', ' 2001', ' 56']"
      ]
     },
     "execution_count": 35,
     "metadata": {},
     "output_type": "execute_result"
    }
   ],
   "source": [
    "next(csvheader)"
   ]
  },
  {
   "cell_type": "code",
   "execution_count": 2,
   "metadata": {},
   "outputs": [],
   "source": [
    "import pandas as pd\n",
    "import matplotlib.pyplot as plt"
   ]
  },
  {
   "cell_type": "code",
   "execution_count": 13,
   "metadata": {},
   "outputs": [],
   "source": [
    "df = pd.read_csv(r'data.csv')"
   ]
  },
  {
   "cell_type": "code",
   "execution_count": 14,
   "metadata": {},
   "outputs": [
    {
     "data": {
      "text/plain": [
       "(20, 3)"
      ]
     },
     "execution_count": 14,
     "metadata": {},
     "output_type": "execute_result"
    }
   ],
   "source": [
    "df.shape"
   ]
  },
  {
   "cell_type": "code",
   "execution_count": 15,
   "metadata": {},
   "outputs": [
    {
     "data": {
      "text/plain": [
       "Student id    13\n",
       " Course id     4\n",
       " Marks        20\n",
       "dtype: int64"
      ]
     },
     "execution_count": 15,
     "metadata": {},
     "output_type": "execute_result"
    }
   ],
   "source": [
    "df.nunique()"
   ]
  },
  {
   "cell_type": "code",
   "execution_count": 16,
   "metadata": {},
   "outputs": [
    {
     "name": "stdout",
     "output_type": "stream",
     "text": [
      "<class 'pandas.core.frame.DataFrame'>\n",
      "RangeIndex: 20 entries, 0 to 19\n",
      "Data columns (total 3 columns):\n",
      " #   Column      Non-Null Count  Dtype\n",
      "---  ------      --------------  -----\n",
      " 0   Student id  20 non-null     int64\n",
      " 1    Course id  20 non-null     int64\n",
      " 2    Marks      20 non-null     int64\n",
      "dtypes: int64(3)\n",
      "memory usage: 608.0 bytes\n"
     ]
    }
   ],
   "source": [
    "df.info()"
   ]
  },
  {
   "cell_type": "code",
   "execution_count": 17,
   "metadata": {},
   "outputs": [
    {
     "data": {
      "text/html": [
       "<div>\n",
       "<style scoped>\n",
       "    .dataframe tbody tr th:only-of-type {\n",
       "        vertical-align: middle;\n",
       "    }\n",
       "\n",
       "    .dataframe tbody tr th {\n",
       "        vertical-align: top;\n",
       "    }\n",
       "\n",
       "    .dataframe thead th {\n",
       "        text-align: right;\n",
       "    }\n",
       "</style>\n",
       "<table border=\"1\" class=\"dataframe\">\n",
       "  <thead>\n",
       "    <tr style=\"text-align: right;\">\n",
       "      <th></th>\n",
       "      <th>Student id</th>\n",
       "      <th>Course id</th>\n",
       "      <th>Marks</th>\n",
       "    </tr>\n",
       "  </thead>\n",
       "  <tbody>\n",
       "    <tr>\n",
       "      <th>0</th>\n",
       "      <td>1001</td>\n",
       "      <td>2001</td>\n",
       "      <td>56</td>\n",
       "    </tr>\n",
       "    <tr>\n",
       "      <th>5</th>\n",
       "      <td>1001</td>\n",
       "      <td>2002</td>\n",
       "      <td>58</td>\n",
       "    </tr>\n",
       "    <tr>\n",
       "      <th>18</th>\n",
       "      <td>1001</td>\n",
       "      <td>2004</td>\n",
       "      <td>35</td>\n",
       "    </tr>\n",
       "  </tbody>\n",
       "</table>\n",
       "</div>"
      ],
      "text/plain": [
       "    Student id   Course id   Marks\n",
       "0         1001        2001      56\n",
       "5         1001        2002      58\n",
       "18        1001        2004      35"
      ]
     },
     "execution_count": 17,
     "metadata": {},
     "output_type": "execute_result"
    }
   ],
   "source": [
    "d = df[df['Student id'] == 1001]\n",
    "d"
   ]
  },
  {
   "cell_type": "code",
   "execution_count": 18,
   "metadata": {},
   "outputs": [
    {
     "data": {
      "text/plain": [
       "149"
      ]
     },
     "execution_count": 18,
     "metadata": {},
     "output_type": "execute_result"
    }
   ],
   "source": [
    "sum(d.iloc[:,-1])"
   ]
  },
  {
   "cell_type": "code",
   "execution_count": null,
   "metadata": {},
   "outputs": [],
   "source": []
  },
  {
   "cell_type": "code",
   "execution_count": 10,
   "metadata": {},
   "outputs": [
    {
     "name": "stdout",
     "output_type": "stream",
     "text": [
      "[1001 2001   56]\n",
      "[1001 2002   58]\n",
      "[1001 2004   35]\n"
     ]
    }
   ],
   "source": [
    "for i in d.values:\n",
    "    print(i)"
   ]
  },
  {
   "cell_type": "markdown",
   "metadata": {},
   "source": [
    "### If the first parameter is ‘-c’, then the second parameter should be a course ID. The Python program\n",
    "must find the highest and the average marks for that course and display it on an HTML page as shown\n",
    "in Figure 2. The title of the table must be “Course Details” and the column headers must be “Average\n",
    "Marks” and “Maximum Marks” (the order of columns must remain the same) as shown. The Python\n",
    "code must also display the histogram of marks for the given course ID as shown in the figure."
   ]
  },
  {
   "cell_type": "code",
   "execution_count": 13,
   "metadata": {},
   "outputs": [
    {
     "data": {
      "text/plain": [
       "5    58\n",
       "6    98\n",
       "7    12\n",
       "8    99\n",
       "9    39\n",
       "Name:  Marks, dtype: int64"
      ]
     },
     "execution_count": 13,
     "metadata": {},
     "output_type": "execute_result"
    }
   ],
   "source": [
    "marks = df[df[' Course id'] == 2002][' Marks']\n",
    "marks"
   ]
  },
  {
   "cell_type": "code",
   "execution_count": 19,
   "metadata": {},
   "outputs": [
    {
     "data": {
      "image/png": "[encoded data removed]",
      "text/plain": [
       "<Figure size 640x480 with 1 Axes>"
      ]
     },
     "metadata": {},
     "output_type": "display_data"
    }
   ],
   "source": [
    "plt.hist(marks)\n",
    "plt.xlabel('Marks')\n",
    "plt.ylabel('Frequency')\n",
    "plt.savefig('lab_assi',dpi='figure',format=None)"
   ]
  },
  {
   "cell_type": "markdown",
   "metadata": {},
   "source": [
    "### Student Template"
   ]
  },
  {
   "cell_type": "code",
   "execution_count": 25,
   "metadata": {},
   "outputs": [
    {
     "name": "stdout",
     "output_type": "stream",
     "text": [
      "\n",
      "<!DOCTYPE html>\n",
      "<html lang=\"en\">\n",
      "<head>\n",
      "    <title>Course Data</title>\n",
      "</head>\n",
      "<body>\n",
      "    <h1>Course Details</h1>\n",
      "    <table border=\"1px solid\">\n",
      "        <tbody>\n",
      "            <tr>\n",
      "                <th>Average Marks</th>\n",
      "                <th>Maximum Marks</th>\n",
      "            </tr>\n",
      "            <tr>\n",
      "                <td>23</td>\n",
      "                <td></td>\n",
      "            </tr>\n",
      "        </tbody>\n",
      "    </table>\n",
      "    <img src='lab_assi.png' alt=\"IMG\">\n",
      "</body>\n",
      "</html>\n"
     ]
    }
   ],
   "source": [
    "from jinja2 import Template\n",
    "COURSE_TEMPLATE = \"\"\"\n",
    "<!DOCTYPE html>\n",
    "<html lang=\"en\">\n",
    "<head>\n",
    "    <title>Course Data</title>\n",
    "</head>\n",
    "<body>\n",
    "    <h1>Course Details</h1>\n",
    "    <table border=\"1px solid\">\n",
    "        <tbody>\n",
    "            <tr>\n",
    "                <th>Average Marks</th>\n",
    "                <th>Maximum Marks</th>\n",
    "            </tr>\n",
    "            <tr>\n",
    "                <td>{{avg_marks}}</td>\n",
    "                <td>{{max_marks}}</td>\n",
    "            </tr>\n",
    "        </tbody>\n",
    "    </table>\n",
    "    <img src='lab_assi.png' alt=\"IMG\">\n",
    "</body>\n",
    "</html>\n",
    "\"\"\"\n",
    "\n",
    "temp = Template(COURSE_TEMPLATE)\n",
    "print(temp.render(avg_marks=23))"
   ]
  },
  {
   "cell_type": "markdown",
   "metadata": {},
   "source": [
    "### Code not needed yet."
   ]
  },
  {
   "cell_type": "code",
   "execution_count": null,
   "metadata": {},
   "outputs": [],
   "source": [
    "from jinja2 import Template\n",
    "import sys\n",
    "import pyhtml as h\n",
    "import matplotlib.pyplot as plt\n",
    "import csv\n",
    "\n",
    "\n",
    "def main():\n",
    "    # reading and storing the files data into variables.\n",
    "    fr = open(r'data.csv','r')\n",
    "    csvheader = csv.reader(fr)\n",
    "    header = next(csvheader)\n",
    "    rows = []\n",
    "    for row in csvheader:\n",
    "        rows.append(row)\n",
    "        \n",
    "    # as given in the document, There should be 2 parameters at least.\n",
    "    if len(sys.argv) > 1:\n",
    "        if sys.argv[1] == '-s':\n",
    "            TEMPLATE = studentTemplate(header,rows)\n",
    "        elif sys.argv[1] == '-c':\n",
    "            TEMPLATE = courseTemplate(rows)\n",
    "    \n",
    "    \n",
    "def studentTemplate(header,rows):\n",
    "    student_id = sys.argv[2]\n",
    "    t = h.html(\n",
    "        \n",
    "    )\n",
    "    \n",
    "\n",
    "def courseTemplate(rows):\n",
    "    pass"
   ]
  },
  {
   "cell_type": "code",
   "execution_count": null,
   "metadata": {},
   "outputs": [],
   "source": [
    "    section = sys.argv[1]\n",
    "    section_id = sys.argv[2]\n",
    "    data = []\n",
    "    with open('data.csv','r') as f:\n",
    "        f.readline()\n",
    "        if section == '-c':\n",
    "            for row in f:\n",
    "                row = list()\n",
    "    "
   ]
  }
 ],
 "metadata": {
  "kernelspec": {
   "display_name": "Python 3",
   "language": "python",
   "name": "python3"
  },
  "language_info": {
   "codemirror_mode": {
    "name": "ipython",
    "version": 3
   },
   "file_extension": ".py",
   "mimetype": "text/x-python",
   "name": "python",
   "nbconvert_exporter": "python",
   "pygments_lexer": "ipython3",
   "version": "3.11.1"
  }
 },
 "nbformat": 4,
 "nbformat_minor": 2
}
