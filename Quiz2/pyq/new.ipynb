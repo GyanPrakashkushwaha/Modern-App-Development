{
 "cells": [
  {
   "cell_type": "code",
   "execution_count": 12,
   "metadata": {},
   "outputs": [
    {
     "name": "stdout",
     "output_type": "stream",
     "text": [
      "before\n",
      "after\n"
     ]
    },
    {
     "data": {
      "text/plain": [
       "'Hello, he!'"
      ]
     },
     "execution_count": 12,
     "metadata": {},
     "output_type": "execute_result"
    }
   ],
   "source": [
    "def modify(func):\n",
    "    def wrapper(name):\n",
    "        print('before')\n",
    "        result = func(name)\n",
    "        print('after')\n",
    "        return result\n",
    "    \n",
    "    return wrapper\n",
    "    \n",
    "\n",
    "# @modify\n",
    "def greet(name):\n",
    "    # print(name)\n",
    "    return f'Hello, {name}!'\n",
    "\n",
    "greet('Ram')\n",
    "\n",
    "modify(greet)('he')"
   ]
  },
  {
   "cell_type": "code",
   "execution_count": null,
   "metadata": {},
   "outputs": [
    {
     "name": "stdout",
     "output_type": "stream",
     "text": [
      "[0, 1, 1, 2, 3, 5, 8, 13, 21, 34]\n"
     ]
    }
   ],
   "source": [
    "def modify(n):\n",
    "    def modifier(n):\n",
    "        ser = [0, 1]\n",
    "        for i in range(n-2):\n",
    "            new = ser[i] + ser[i+1]\n",
    "            ser.append(new)\n",
    "        print(ser)\n",
    "    return modifier\n",
    "\n",
    "@modify\n",
    "def list_num(n):\n",
    "    nums = []\n",
    "    for i in range(n):\n",
    "        nums.append(i+1)\n",
    "    print(nums)\n",
    "    \n",
    "list_num(10)"
   ]
  },
  {
   "cell_type": "code",
   "execution_count": null,
   "metadata": {},
   "outputs": [],
   "source": [
    "def modify(func):\n",
    "    def wrapper(l):\n",
    "        res = func(l)\n",
    "        return res[::-1]\n",
    "    return wrapper\n",
    "\n",
    "def update(func):\n",
    "    def wrapper(l):\n",
    "        res = func(l)\n",
    "        return list(map(lambda x: x/2, res))\n",
    "    return wrapper\n",
    "\n",
    "@modify\n",
    "@update\n",
    "def mylist(l):\n",
    "    out_list = []\n",
    "    for i in l:\n",
    "        out_list.append(i**2)\n",
    "    return out_list\n",
    "\n",
    "# print(modify([2,4,1,7,5,9]))\n",
    "print(mylist([2,4,1,7,5,9]))\n"
   ]
  },
  {
   "cell_type": "code",
   "execution_count": null,
   "metadata": {},
   "outputs": [],
   "source": [
    "{\n",
    "  \"message\": \"The method is not allowed for the requested URL.\"\n",
    "}"
   ]
  },
  {
   "cell_type": "code",
   "execution_count": 3,
   "metadata": {},
   "outputs": [],
   "source": [
    "from flask import Flask, abort, request\n",
    "\n",
    "app = Flask(__name__)\n",
    "\n",
    "# @app.route('/login/<user_id>')\n",
    "# def login(user_id):\n",
    "#     print(request.args.get('user_id'))\n",
    "#     # print(isalpha())\n",
    "#     if user_id:\n",
    "#         if user_id.isalpha():\n",
    "#             abort(400, 'bad request: invalid ID')\n",
    "#         return f'<h1> your id is {user_id} <h1>'\n",
    "    \n",
    "#     return f'Invalid id'\n",
    "\n",
    "# app.run(debug=True)\n",
    "\n",
    "@app.route('/greet/<name>')\n",
    "def me(name):\n",
    "    val = request.args.get('val')\n",
    "    if name:\n",
    "        return f'Name {name, val}'\n",
    "    else:\n",
    "        return 'unknown'\n",
    "    \n",
    "@app.route('/hey')\n",
    "def new():\n",
    "    val2 = request.args.get('key')\n",
    "    if val2:\n",
    "        return f'<h1>The val of key is {val2}</h1>'\n",
    "    \n",
    "    return '<h1> Here There</h1>'\n",
    "    \n",
    "# app.run(debug=True)"
   ]
  },
  {
   "cell_type": "code",
   "execution_count": 21,
   "metadata": {},
   "outputs": [
    {
     "data": {
      "text/plain": [
       "False"
      ]
     },
     "execution_count": 21,
     "metadata": {},
     "output_type": "execute_result"
    }
   ],
   "source": [
    "word = 'FFfafa414a '\n",
    "\n",
    "\n",
    "word.isalnum()"
   ]
  },
  {
   "cell_type": "code",
   "execution_count": null,
   "metadata": {},
   "outputs": [],
   "source": [
    "word.is"
   ]
  }
 ],
 "metadata": {
  "kernelspec": {
   "display_name": ".mad1env",
   "language": "python",
   "name": "python3"
  },
  "language_info": {
   "codemirror_mode": {
    "name": "ipython",
    "version": 3
   },
   "file_extension": ".py",
   "mimetype": "text/x-python",
   "name": "python",
   "nbconvert_exporter": "python",
   "pygments_lexer": "ipython3",
   "version": "3.11.1"
  }
 },
 "nbformat": 4,
 "nbformat_minor": 2
}
